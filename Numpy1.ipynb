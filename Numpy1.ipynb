{
 "cells": [
  {
   "cell_type": "markdown",
   "id": "02ea8314",
   "metadata": {},
   "source": [
    "# Import numpy library"
   ]
  },
  {
   "cell_type": "code",
   "execution_count": 1,
   "id": "730327cf",
   "metadata": {},
   "outputs": [],
   "source": [
    "import numpy as np"
   ]
  },
  {
   "cell_type": "markdown",
   "id": "b795db1f",
   "metadata": {},
   "source": [
    "Convrting list to array"
   ]
  },
  {
   "cell_type": "code",
   "execution_count": 7,
   "id": "83b6265a",
   "metadata": {},
   "outputs": [
    {
     "data": {
      "text/plain": [
       "array([1. , 2. , 3.4])"
      ]
     },
     "execution_count": 7,
     "metadata": {},
     "output_type": "execute_result"
    }
   ],
   "source": [
    "data = [1,2,3.4]\n",
    "arr = np.array(data)\n",
    "arr"
   ]
  },
  {
   "cell_type": "markdown",
   "id": "9e515a82",
   "metadata": {},
   "source": [
    "Converting Tuple to Array"
   ]
  },
  {
   "cell_type": "code",
   "execution_count": 9,
   "id": "f11cd503",
   "metadata": {},
   "outputs": [
    {
     "data": {
      "text/plain": [
       "array([1, 2, 3])"
      ]
     },
     "execution_count": 9,
     "metadata": {},
     "output_type": "execute_result"
    }
   ],
   "source": [
    "tup=(1,2,3)\n",
    "artup = np.array(tup)\n",
    "artup"
   ]
  },
  {
   "cell_type": "code",
   "execution_count": 10,
   "id": "bd5671e3",
   "metadata": {},
   "outputs": [
    {
     "data": {
      "text/plain": [
       "1"
      ]
     },
     "execution_count": 10,
     "metadata": {},
     "output_type": "execute_result"
    }
   ],
   "source": [
    "artup.ndim"
   ]
  },
  {
   "cell_type": "code",
   "execution_count": 11,
   "id": "e3e894d2",
   "metadata": {},
   "outputs": [
    {
     "data": {
      "text/plain": [
       "array({1, 2, 3, 4}, dtype=object)"
      ]
     },
     "execution_count": 11,
     "metadata": {},
     "output_type": "execute_result"
    }
   ],
   "source": [
    "s={1,2,3,4}\n",
    "setup = np.array(s)\n",
    "setup"
   ]
  },
  {
   "cell_type": "code",
   "execution_count": 12,
   "id": "ba4935dd",
   "metadata": {},
   "outputs": [
    {
     "data": {
      "text/plain": [
       "array([[1, 2, 3, 4],\n",
       "       [5, 6, 7, 8]])"
      ]
     },
     "execution_count": 12,
     "metadata": {},
     "output_type": "execute_result"
    }
   ],
   "source": [
    "data2 = [[1, 2, 3, 4], [5, 6, 7, 8]]\n",
    "array = np.array(data2)\n",
    "array"
   ]
  },
  {
   "cell_type": "code",
   "execution_count": 13,
   "id": "83eeb78a",
   "metadata": {},
   "outputs": [
    {
     "data": {
      "text/plain": [
       "array([[1., 2., 3., 4.],\n",
       "       [5., 6., 7., 8.]])"
      ]
     },
     "execution_count": 13,
     "metadata": {},
     "output_type": "execute_result"
    }
   ],
   "source": [
    "array.astype(float)\n"
   ]
  },
  {
   "cell_type": "code",
   "execution_count": 14,
   "id": "8fabb904",
   "metadata": {},
   "outputs": [
    {
     "data": {
      "text/plain": [
       "2"
      ]
     },
     "execution_count": 14,
     "metadata": {},
     "output_type": "execute_result"
    }
   ],
   "source": [
    "array.ndim"
   ]
  },
  {
   "cell_type": "code",
   "execution_count": 15,
   "id": "8afcccf7",
   "metadata": {},
   "outputs": [
    {
     "data": {
      "text/plain": [
       "(2, 4)"
      ]
     },
     "execution_count": 15,
     "metadata": {},
     "output_type": "execute_result"
    }
   ],
   "source": [
    "array.shape"
   ]
  },
  {
   "cell_type": "code",
   "execution_count": 16,
   "id": "3823f0f0",
   "metadata": {},
   "outputs": [
    {
     "data": {
      "text/plain": [
       "array([0., 0., 0., 0., 0., 0., 0.])"
      ]
     },
     "execution_count": 16,
     "metadata": {},
     "output_type": "execute_result"
    }
   ],
   "source": [
    "zero_array = np.zeros(7)\n",
    "zero_array"
   ]
  },
  {
   "cell_type": "code",
   "execution_count": 17,
   "id": "6570effd",
   "metadata": {},
   "outputs": [],
   "source": [
    "z1 = np.zeros((3,5))"
   ]
  },
  {
   "cell_type": "code",
   "execution_count": 18,
   "id": "ad4bf0fb",
   "metadata": {},
   "outputs": [
    {
     "data": {
      "text/plain": [
       "array([1., 1., 1., 1., 1.])"
      ]
     },
     "execution_count": 18,
     "metadata": {},
     "output_type": "execute_result"
    }
   ],
   "source": [
    "one = np.ones(5)\n",
    "one"
   ]
  },
  {
   "cell_type": "code",
   "execution_count": 19,
   "id": "cd9d59f2",
   "metadata": {},
   "outputs": [
    {
     "data": {
      "text/plain": [
       "array([[1., 1., 1., 1.],\n",
       "       [1., 1., 1., 1.]])"
      ]
     },
     "execution_count": 19,
     "metadata": {},
     "output_type": "execute_result"
    }
   ],
   "source": [
    "one2d = np.ones((2,4))\n",
    "one2d"
   ]
  },
  {
   "cell_type": "code",
   "execution_count": 20,
   "id": "910c05b5",
   "metadata": {},
   "outputs": [
    {
     "data": {
      "text/plain": [
       "array([[[5.88242065e+25, 4.84886969e-23],\n",
       "        [2.38296654e+06, 5.48271264e-86],\n",
       "        [4.43352822e+25, 1.70658590e+93]]])"
      ]
     },
     "execution_count": 20,
     "metadata": {},
     "output_type": "execute_result"
    }
   ],
   "source": [
    "em = np.empty((1, 3, 2))\n",
    "em"
   ]
  },
  {
   "cell_type": "code",
   "execution_count": 21,
   "id": "5584993b",
   "metadata": {},
   "outputs": [
    {
     "data": {
      "text/plain": [
       "array([[[9.49447596e-312, 2.47032823e-322],\n",
       "        [0.00000000e+000, 0.00000000e+000],\n",
       "        [9.34609789e-307, 1.58817677e-052]],\n",
       "\n",
       "       [[4.46936566e-090, 3.50592775e-033],\n",
       "        [9.99240349e-048, 3.73539840e-033],\n",
       "        [3.99910963e+252, 9.76480236e+165]]])"
      ]
     },
     "execution_count": 21,
     "metadata": {},
     "output_type": "execute_result"
    }
   ],
   "source": [
    "em1 = np.empty((2, 3, 2))\n",
    "em1"
   ]
  },
  {
   "cell_type": "code",
   "execution_count": 22,
   "id": "9091cca7",
   "metadata": {},
   "outputs": [
    {
     "data": {
      "text/plain": [
       "array([0, 1, 2, 3, 4, 5, 6, 7, 8, 9])"
      ]
     },
     "execution_count": 22,
     "metadata": {},
     "output_type": "execute_result"
    }
   ],
   "source": [
    "n =np.arange(10)\n",
    "n"
   ]
  },
  {
   "cell_type": "code",
   "execution_count": 23,
   "id": "713e3435",
   "metadata": {},
   "outputs": [
    {
     "data": {
      "text/plain": [
       "array([ 2,  5,  8, 11, 14])"
      ]
     },
     "execution_count": 23,
     "metadata": {},
     "output_type": "execute_result"
    }
   ],
   "source": [
    "num = np.arange(2,15,3)\n",
    "num"
   ]
  },
  {
   "cell_type": "code",
   "execution_count": 24,
   "id": "148a7e7c",
   "metadata": {},
   "outputs": [
    {
     "data": {
      "text/plain": [
       "dtype('int32')"
      ]
     },
     "execution_count": 24,
     "metadata": {},
     "output_type": "execute_result"
    }
   ],
   "source": [
    "num.dtype"
   ]
  },
  {
   "cell_type": "code",
   "execution_count": 25,
   "id": "29a28edd",
   "metadata": {},
   "outputs": [
    {
     "data": {
      "text/plain": [
       "dtype('<U2')"
      ]
     },
     "execution_count": 25,
     "metadata": {},
     "output_type": "execute_result"
    }
   ],
   "source": [
    "l=['sd','ff']\n",
    "a=np.array(l)\n",
    "a.dtype"
   ]
  },
  {
   "cell_type": "code",
   "execution_count": 26,
   "id": "dd1463e2",
   "metadata": {},
   "outputs": [
    {
     "data": {
      "text/plain": [
       "array([0. , 0. , 0.4])"
      ]
     },
     "execution_count": 26,
     "metadata": {},
     "output_type": "execute_result"
    }
   ],
   "source": [
    "sub = arr-artup\n",
    "sub"
   ]
  },
  {
   "cell_type": "code",
   "execution_count": 27,
   "id": "ead928c0",
   "metadata": {},
   "outputs": [
    {
     "data": {
      "text/plain": [
       "array([ 1. ,  4. , 10.2])"
      ]
     },
     "execution_count": 27,
     "metadata": {},
     "output_type": "execute_result"
    }
   ],
   "source": [
    "mul = arr*artup\n",
    "mul"
   ]
  },
  {
   "cell_type": "code",
   "execution_count": 28,
   "id": "edffd901",
   "metadata": {},
   "outputs": [
    {
     "data": {
      "text/plain": [
       "array([[[ 1,  2,  3],\n",
       "        [ 4,  5,  6]],\n",
       "\n",
       "       [[42, 42, 42],\n",
       "        [42, 42, 42]]])"
      ]
     },
     "execution_count": 28,
     "metadata": {},
     "output_type": "execute_result"
    }
   ],
   "source": [
    "arr3d = np.array([ [[1, 2, 3], [4, 5, 6]], [[7, 8, 9], [10, 11, 12]] ])\n",
    "arr3d[1] = 42\n",
    "arr3d"
   ]
  },
  {
   "cell_type": "code",
   "execution_count": 42,
   "id": "ac1b6e5e",
   "metadata": {},
   "outputs": [
    {
     "name": "stdout",
     "output_type": "stream",
     "text": [
      "3\n"
     ]
    }
   ],
   "source": [
    "print(arr3d[0][1][2])\n",
    "# arr3d[0] = [1,2,3]\n",
    "# arr3d"
   ]
  },
  {
   "cell_type": "code",
   "execution_count": 43,
   "id": "277668be",
   "metadata": {},
   "outputs": [
    {
     "data": {
      "text/plain": [
       "array([[5, 5, 5],\n",
       "       [5, 5, 5]])"
      ]
     },
     "execution_count": 43,
     "metadata": {},
     "output_type": "execute_result"
    }
   ],
   "source": [
    "full = np.full((2,3), 5)\n",
    "full"
   ]
  },
  {
   "cell_type": "code",
   "execution_count": 94,
   "id": "4b6cd398",
   "metadata": {},
   "outputs": [
    {
     "data": {
      "text/plain": [
       "array([  1.        ,   6.21052632,  11.42105263,  16.63157895,\n",
       "        21.84210526,  27.05263158,  32.26315789,  37.47368421,\n",
       "        42.68421053,  47.89473684,  53.10526316,  58.31578947,\n",
       "        63.52631579,  68.73684211,  73.94736842,  79.15789474,\n",
       "        84.36842105,  89.57894737,  94.78947368, 100.        ])"
      ]
     },
     "execution_count": 94,
     "metadata": {},
     "output_type": "execute_result"
    }
   ],
   "source": [
    "arthe = np.linspace(1,100,20)\n",
    "arthe"
   ]
  },
  {
   "cell_type": "code",
   "execution_count": 48,
   "id": "cc9e381f",
   "metadata": {},
   "outputs": [
    {
     "data": {
      "text/plain": [
       "array([[0.89200988, 0.79480211, 0.87275994],\n",
       "       [0.72697819, 0.76868177, 0.82013488],\n",
       "       [0.50819449, 0.10958445, 0.68573694]])"
      ]
     },
     "execution_count": 48,
     "metadata": {},
     "output_type": "execute_result"
    }
   ],
   "source": [
    "random = np.random.random((3,3))\n",
    "random"
   ]
  },
  {
   "cell_type": "code",
   "execution_count": 91,
   "id": "84576405",
   "metadata": {},
   "outputs": [
    {
     "data": {
      "text/plain": [
       "array([[0.86500973, 0.97075798, 0.33181341, 0.32332029],\n",
       "       [0.02918256, 0.64305713, 0.29399689, 0.7795183 ],\n",
       "       [0.36756415, 0.14076498, 0.94923028, 0.51558119]])"
      ]
     },
     "execution_count": 91,
     "metadata": {},
     "output_type": "execute_result"
    }
   ],
   "source": [
    "random1 = np.random.rand(3,4)\n",
    "random1"
   ]
  },
  {
   "cell_type": "code",
   "execution_count": 92,
   "id": "fdaa4d4f",
   "metadata": {},
   "outputs": [
    {
     "data": {
      "text/plain": [
       "array([[ 0.53372495,  1.5730541 , -0.37629345, -1.69841251],\n",
       "       [ 0.28255847, -0.042837  , -0.03717329,  1.10861119],\n",
       "       [ 0.41036212,  0.29827028, -0.78634087,  1.27639807]])"
      ]
     },
     "execution_count": 92,
     "metadata": {},
     "output_type": "execute_result"
    }
   ],
   "source": [
    "random2 = np.random.randn(3,4)\n",
    "random2"
   ]
  },
  {
   "cell_type": "code",
   "execution_count": 96,
   "id": "4c5ac08b",
   "metadata": {},
   "outputs": [
    {
     "data": {
      "text/plain": [
       "array([[ -8.36497026,  -4.87100582,  -2.50959909],\n",
       "       [-19.89299779,   0.60612195,  -4.72836313],\n",
       "       [-11.63232857,  12.94142232,  -2.01228829]])"
      ]
     },
     "execution_count": 96,
     "metadata": {},
     "output_type": "execute_result"
    }
   ],
   "source": [
    "normal = np.random.normal(1, 10, (3, 3))\n",
    "normal"
   ]
  },
  {
   "cell_type": "code",
   "execution_count": 52,
   "id": "51b4c9bb",
   "metadata": {},
   "outputs": [
    {
     "data": {
      "text/plain": [
       "array([[ 9, 15, 12],\n",
       "       [ 7,  2,  3],\n",
       "       [ 2, 19, 10]])"
      ]
     },
     "execution_count": 52,
     "metadata": {},
     "output_type": "execute_result"
    }
   ],
   "source": [
    "randint = np.random.randint(1,20,(3, 3))\n",
    "randint"
   ]
  },
  {
   "cell_type": "code",
   "execution_count": 57,
   "id": "a4bd41f0",
   "metadata": {},
   "outputs": [
    {
     "data": {
      "text/plain": [
       "array([[1., 0.],\n",
       "       [0., 1.]])"
      ]
     },
     "execution_count": 57,
     "metadata": {},
     "output_type": "execute_result"
    }
   ],
   "source": [
    "identity = np.eye(2)\n",
    "identity"
   ]
  },
  {
   "cell_type": "code",
   "execution_count": 153,
   "id": "d4f9b4b8",
   "metadata": {},
   "outputs": [
    {
     "data": {
      "text/plain": [
       "array([[37,  9,  2, 13, 26,  5,  8, 34, 59, 59, 21,  2, 27, 54, 15,  7,\n",
       "        36, 55, 21, 44, 32, 54, 35, 36, 11, 43, 19,  1, 32, 30, 44, 52,\n",
       "        59, 37, 38,  1, 54, 47, 18,  6, 18,  4, 18, 36, 57, 36, 58, 52,\n",
       "        37, 53, 43, 28, 37, 33, 29, 58, 27, 57, 30, 45]])"
      ]
     },
     "execution_count": 153,
     "metadata": {},
     "output_type": "execute_result"
    }
   ],
   "source": [
    "x3 = np.random.randint(60, size=(3, 4, 5)) \n",
    "x3.reshape((1,60))\n"
   ]
  },
  {
   "cell_type": "code",
   "execution_count": 59,
   "id": "bb5573f6",
   "metadata": {},
   "outputs": [
    {
     "name": "stdout",
     "output_type": "stream",
     "text": [
      "3\n",
      "(3, 4, 5)\n",
      "60\n"
     ]
    }
   ],
   "source": [
    "print(x3.ndim)\n",
    "print(x3.shape)\n",
    "print(x3.size)"
   ]
  },
  {
   "cell_type": "code",
   "execution_count": 63,
   "id": "f1c76501",
   "metadata": {},
   "outputs": [
    {
     "name": "stdout",
     "output_type": "stream",
     "text": [
      "itemsize: 4 bytes\n",
      "nbytes: 240 bytes\n"
     ]
    }
   ],
   "source": [
    "print(\"itemsize:\", x3.itemsize, \"bytes\")\n",
    "print(\"nbytes:\", x3.nbytes, \"bytes\")"
   ]
  },
  {
   "cell_type": "code",
   "execution_count": 98,
   "id": "7f833474",
   "metadata": {},
   "outputs": [
    {
     "name": "stdout",
     "output_type": "stream",
     "text": [
      "[[44 39 16 47 29]\n",
      " [15  7 23 13 19]\n",
      " [41 48 27 28  9]\n",
      " [38 41  1 39 48]]\n",
      "itemsize: 4 bytes\n",
      "nbytes: 80 bytes\n"
     ]
    }
   ],
   "source": [
    "x2 = np.random.randint(50, size=(4, 5)) \n",
    "print(x2)\n",
    "print(\"itemsize:\", x2.itemsize, \"bytes\")\n",
    "print(\"nbytes:\", x2.nbytes, \"bytes\")"
   ]
  },
  {
   "cell_type": "code",
   "execution_count": 99,
   "id": "37b3a9d8",
   "metadata": {},
   "outputs": [
    {
     "name": "stdout",
     "output_type": "stream",
     "text": [
      "[[32 18 14 26 34]\n",
      " [21 45 32 14 32]\n",
      " [32 30 40 27  9]\n",
      " [11 38 17 42  9]]\n"
     ]
    }
   ],
   "source": [
    "x2 = np.random.randint(50, size=(4, 5)) \n",
    "print(x2)"
   ]
  },
  {
   "cell_type": "code",
   "execution_count": 130,
   "id": "fc2cb501",
   "metadata": {},
   "outputs": [
    {
     "data": {
      "text/plain": [
       "array([[11, 38, 17, 42,  9],\n",
       "       [32, 30, 40, 27,  9],\n",
       "       [21, 45, 32, 14, 32],\n",
       "       [32, 18, 14, 26, 34]])"
      ]
     },
     "execution_count": 130,
     "metadata": {},
     "output_type": "execute_result"
    }
   ],
   "source": [
    "x2[::-1, ::1]"
   ]
  },
  {
   "cell_type": "code",
   "execution_count": 125,
   "id": "901d39dc",
   "metadata": {},
   "outputs": [
    {
     "data": {
      "text/plain": [
       "array([], shape=(0, 5), dtype=int32)"
      ]
     },
     "execution_count": 125,
     "metadata": {},
     "output_type": "execute_result"
    }
   ],
   "source": [
    "x2[-1:-3:-1, :]"
   ]
  },
  {
   "cell_type": "code",
   "execution_count": 116,
   "id": "3b44e15a",
   "metadata": {},
   "outputs": [
    {
     "data": {
      "text/plain": [
       "array([26, 14])"
      ]
     },
     "execution_count": 116,
     "metadata": {},
     "output_type": "execute_result"
    }
   ],
   "source": [
    "x2[:2,3]"
   ]
  },
  {
   "cell_type": "code",
   "execution_count": 70,
   "id": "14764995",
   "metadata": {},
   "outputs": [
    {
     "data": {
      "text/plain": [
       "array([[ 8,  7,  6,  0,  4],\n",
       "       [ 1,  9,  4,  0,  3],\n",
       "       [ 4,  8, 12,  5,  9],\n",
       "       [ 3,  7,  4,  4,  4]])"
      ]
     },
     "execution_count": 70,
     "metadata": {},
     "output_type": "execute_result"
    }
   ],
   "source": [
    "x2[2,2]=12\n",
    "x2"
   ]
  },
  {
   "cell_type": "code",
   "execution_count": 77,
   "id": "f71c3bfd",
   "metadata": {},
   "outputs": [
    {
     "data": {
      "text/plain": [
       "array([[ 4,  4,  4,  7,  3],\n",
       "       [ 9,  5, 12,  8,  4],\n",
       "       [ 3,  0,  4,  9,  1],\n",
       "       [ 4,  0,  6,  7,  8]])"
      ]
     },
     "execution_count": 77,
     "metadata": {},
     "output_type": "execute_result"
    }
   ],
   "source": [
    "x2[::-1, ::-1]"
   ]
  },
  {
   "cell_type": "code",
   "execution_count": 78,
   "id": "032982a7",
   "metadata": {},
   "outputs": [
    {
     "data": {
      "text/plain": [
       "array([[ 3,  7,  4,  4,  4],\n",
       "       [ 4,  8, 12,  5,  9],\n",
       "       [ 1,  9,  4,  0,  3],\n",
       "       [ 8,  7,  6,  0,  4]])"
      ]
     },
     "execution_count": 78,
     "metadata": {},
     "output_type": "execute_result"
    }
   ],
   "source": [
    "x2[::-1, ::1]"
   ]
  },
  {
   "cell_type": "code",
   "execution_count": 69,
   "id": "61f17f54",
   "metadata": {},
   "outputs": [
    {
     "data": {
      "text/plain": [
       "4"
      ]
     },
     "execution_count": 69,
     "metadata": {},
     "output_type": "execute_result"
    }
   ],
   "source": [
    "x2[-3, -3]"
   ]
  },
  {
   "cell_type": "code",
   "execution_count": 71,
   "id": "bfa2ac50",
   "metadata": {},
   "outputs": [
    {
     "data": {
      "text/plain": [
       "array([[ 8,  7,  6,  0,  4],\n",
       "       [ 1,  9,  4,  0,  3],\n",
       "       [ 4,  8, 12,  5,  9],\n",
       "       [ 3,  7,  4,  4,  4]])"
      ]
     },
     "execution_count": 71,
     "metadata": {},
     "output_type": "execute_result"
    }
   ],
   "source": [
    "x2"
   ]
  },
  {
   "cell_type": "code",
   "execution_count": 75,
   "id": "8af739c9",
   "metadata": {},
   "outputs": [
    {
     "data": {
      "text/plain": [
       "array([[1, 0],\n",
       "       [3, 4]])"
      ]
     },
     "execution_count": 75,
     "metadata": {},
     "output_type": "execute_result"
    }
   ],
   "source": [
    "x2[1: :2, ::3]"
   ]
  },
  {
   "cell_type": "code",
   "execution_count": 76,
   "id": "a48e1dbf",
   "metadata": {},
   "outputs": [
    {
     "data": {
      "text/plain": [
       "array([[1, 0],\n",
       "       [3, 4]])"
      ]
     },
     "execution_count": 76,
     "metadata": {},
     "output_type": "execute_result"
    }
   ],
   "source": [
    "x2[1: :2, 0:4:3]"
   ]
  },
  {
   "cell_type": "code",
   "execution_count": 72,
   "id": "d1b48adc",
   "metadata": {},
   "outputs": [
    {
     "data": {
      "text/plain": [
       "array([[ 4,  0,  3],\n",
       "       [12,  5,  9]])"
      ]
     },
     "execution_count": 72,
     "metadata": {},
     "output_type": "execute_result"
    }
   ],
   "source": [
    "x2[1:3, 2:]"
   ]
  },
  {
   "cell_type": "code",
   "execution_count": 73,
   "id": "17aa355d",
   "metadata": {},
   "outputs": [
    {
     "data": {
      "text/plain": [
       "array([[4, 8],\n",
       "       [3, 7]])"
      ]
     },
     "execution_count": 73,
     "metadata": {},
     "output_type": "execute_result"
    }
   ],
   "source": [
    "x2[2: , 0:2]"
   ]
  },
  {
   "cell_type": "code",
   "execution_count": 74,
   "id": "92a7ab70",
   "metadata": {},
   "outputs": [
    {
     "data": {
      "text/plain": [
       "array([[ 1,  4,  3],\n",
       "       [ 4, 12,  9]])"
      ]
     },
     "execution_count": 74,
     "metadata": {},
     "output_type": "execute_result"
    }
   ],
   "source": [
    "x2[1:3, 0: :2]"
   ]
  },
  {
   "cell_type": "code",
   "execution_count": 157,
   "id": "6b56d6cc",
   "metadata": {},
   "outputs": [
    {
     "data": {
      "text/plain": [
       "array([[5, 0, 1],\n",
       "       [3, 9, 4]])"
      ]
     },
     "execution_count": 157,
     "metadata": {},
     "output_type": "execute_result"
    }
   ],
   "source": [
    "grid = np.random.randint(10,size=(2,3))\n",
    "grid"
   ]
  },
  {
   "cell_type": "code",
   "execution_count": 158,
   "id": "af16270c",
   "metadata": {},
   "outputs": [
    {
     "data": {
      "text/plain": [
       "array([[5, 0, 1],\n",
       "       [3, 9, 4],\n",
       "       [5, 0, 1],\n",
       "       [3, 9, 4]])"
      ]
     },
     "execution_count": 158,
     "metadata": {},
     "output_type": "execute_result"
    }
   ],
   "source": [
    "con = np.concatenate([grid, grid])\n",
    "con"
   ]
  },
  {
   "cell_type": "code",
   "execution_count": 160,
   "id": "364093c4",
   "metadata": {},
   "outputs": [
    {
     "data": {
      "text/plain": [
       "array([[5, 0, 1],\n",
       "       [3, 9, 4],\n",
       "       [5, 0, 1],\n",
       "       [3, 9, 4]])"
      ]
     },
     "execution_count": 160,
     "metadata": {},
     "output_type": "execute_result"
    }
   ],
   "source": [
    "con1 = np.concatenate([grid, grid], axis=0) \n",
    "con1"
   ]
  },
  {
   "cell_type": "code",
   "execution_count": 63,
   "id": "37a47a4c",
   "metadata": {},
   "outputs": [
    {
     "data": {
      "text/plain": [
       "array([[0.60851884, 0.03512343, 0.27276671, 0.49118397],\n",
       "       [0.92809156, 0.8595083 , 0.88110192, 0.44356786],\n",
       "       [0.31858845, 0.13900773, 0.72868662, 0.03349105],\n",
       "       [0.72314363, 0.75758596, 0.24886158, 0.74289789],\n",
       "       [0.75145586, 0.52002089, 0.65128321, 0.79398167],\n",
       "       [0.66588907, 0.13305186, 0.52818167, 0.20451531],\n",
       "       [0.33349426, 0.31250657, 0.14309179, 0.12621643]])"
      ]
     },
     "execution_count": 63,
     "metadata": {},
     "output_type": "execute_result"
    }
   ],
   "source": [
    "data1 = np.random.rand(7, 4)\n",
    "data1"
   ]
  },
  {
   "cell_type": "code",
   "execution_count": 69,
   "id": "4ea6837f",
   "metadata": {},
   "outputs": [
    {
     "data": {
      "text/plain": [
       "array([[0.52593265, 0.87755013, 0.28725864],\n",
       "       [0.70047111, 0.56377503, 0.47888493],\n",
       "       [0.69885729, 0.51076272, 0.22347456]])"
      ]
     },
     "execution_count": 69,
     "metadata": {},
     "output_type": "execute_result"
    }
   ],
   "source": [
    "d2 =  np.random.random((3, 3))\n",
    "d2"
   ]
  },
  {
   "cell_type": "code",
   "execution_count": 65,
   "id": "5ace31d4",
   "metadata": {},
   "outputs": [
    {
     "data": {
      "text/plain": [
       "array([[0.60851884, 0.        , 0.        , 0.49118397],\n",
       "       [0.92809156, 0.8595083 , 0.88110192, 0.44356786],\n",
       "       [0.        , 0.        , 0.72868662, 0.        ],\n",
       "       [0.72314363, 0.75758596, 0.        , 0.74289789],\n",
       "       [0.75145586, 0.52002089, 0.65128321, 0.79398167],\n",
       "       [0.66588907, 0.        , 0.52818167, 0.        ],\n",
       "       [0.        , 0.        , 0.        , 0.        ]])"
      ]
     },
     "execution_count": 65,
     "metadata": {},
     "output_type": "execute_result"
    }
   ],
   "source": [
    "data1[data1<0.4]=0\n",
    "data1"
   ]
  },
  {
   "cell_type": "code",
   "execution_count": 66,
   "id": "0458a459",
   "metadata": {},
   "outputs": [
    {
     "data": {
      "text/plain": [
       "array([[3.14, 3.14, 3.14, 3.14, 3.14],\n",
       "       [3.14, 3.14, 3.14, 3.14, 3.14],\n",
       "       [3.14, 3.14, 3.14, 3.14, 3.14]])"
      ]
     },
     "execution_count": 66,
     "metadata": {},
     "output_type": "execute_result"
    }
   ],
   "source": [
    "full = np.full((3, 5), 3.14)\n",
    "full"
   ]
  },
  {
   "cell_type": "code",
   "execution_count": 68,
   "id": "be8ad968",
   "metadata": {},
   "outputs": [
    {
     "data": {
      "text/plain": [
       "array([ 0. ,  2.5,  5. ,  7.5, 10. ])"
      ]
     },
     "execution_count": 68,
     "metadata": {},
     "output_type": "execute_result"
    }
   ],
   "source": [
    "line = np.linspace(0, 10, 5)\n",
    "line"
   ]
  },
  {
   "cell_type": "code",
   "execution_count": 19,
   "id": "d26b60f9",
   "metadata": {},
   "outputs": [
    {
     "data": {
      "text/plain": [
       "[4, 2, 1]"
      ]
     },
     "execution_count": 19,
     "metadata": {},
     "output_type": "execute_result"
    }
   ],
   "source": [
    "t=(2,4,1)\n",
    "sorted(t, reverse=True)"
   ]
  },
  {
   "cell_type": "code",
   "execution_count": 9,
   "id": "aebaf23d",
   "metadata": {},
   "outputs": [],
   "source": [
    "sum = 3+4"
   ]
  },
  {
   "cell_type": "code",
   "execution_count": 10,
   "id": "640f0334",
   "metadata": {},
   "outputs": [
    {
     "name": "stdout",
     "output_type": "stream",
     "text": [
      "7\n"
     ]
    }
   ],
   "source": [
    "print(sum)"
   ]
  },
  {
   "cell_type": "code",
   "execution_count": 20,
   "id": "c5826926",
   "metadata": {},
   "outputs": [
    {
     "name": "stdout",
     "output_type": "stream",
     "text": [
      "Enter any numberwerdf\n"
     ]
    }
   ],
   "source": [
    "num1 =input(\"Enter any number\")"
   ]
  },
  {
   "cell_type": "code",
   "execution_count": 17,
   "id": "0335f4ac",
   "metadata": {},
   "outputs": [
    {
     "name": "stdout",
     "output_type": "stream",
     "text": [
      "Enter 2nd number23\n"
     ]
    }
   ],
   "source": [
    "num2 = input(\"Enter 2nd number\")"
   ]
  },
  {
   "cell_type": "code",
   "execution_count": 12,
   "id": "2769dc69",
   "metadata": {},
   "outputs": [],
   "source": [
    "sm = num1 + num2 \n",
    "sub = num1 - num2 \n",
    "mul = num1 * num2 \n",
    "div = num1 / num2 \n",
    "power = num1 ** num2 "
   ]
  },
  {
   "cell_type": "code",
   "execution_count": 13,
   "id": "e2129d77",
   "metadata": {},
   "outputs": [
    {
     "name": "stdout",
     "output_type": "stream",
     "text": [
      "64\n"
     ]
    }
   ],
   "source": [
    "print(power)"
   ]
  },
  {
   "cell_type": "code",
   "execution_count": 21,
   "id": "59e561a9",
   "metadata": {},
   "outputs": [
    {
     "name": "stdout",
     "output_type": "stream",
     "text": [
      "1\n",
      "the subtraction is\n"
     ]
    }
   ],
   "source": [
    "print(sub)\n",
    "print('the subtraction is')"
   ]
  },
  {
   "cell_type": "code",
   "execution_count": 23,
   "id": "2c923a1e",
   "metadata": {},
   "outputs": [],
   "source": [
    "name = \"Alice\"\n",
    "age  = 22"
   ]
  },
  {
   "cell_type": "code",
   "execution_count": 24,
   "id": "39da3c51",
   "metadata": {},
   "outputs": [
    {
     "name": "stdout",
     "output_type": "stream",
     "text": [
      "your name is  Alice  your age is  22\n"
     ]
    }
   ],
   "source": [
    "print('your name is ', name, ' your age is ', age)"
   ]
  },
  {
   "cell_type": "code",
   "execution_count": 25,
   "id": "0475c7a9",
   "metadata": {},
   "outputs": [
    {
     "name": "stdout",
     "output_type": "stream",
     "text": [
      "your name is Alice your age is 22\n"
     ]
    }
   ],
   "source": [
    "print(f\"your name is {name} your age is {age}\")"
   ]
  },
  {
   "cell_type": "code",
   "execution_count": 26,
   "id": "8f7e4e8a",
   "metadata": {},
   "outputs": [
    {
     "data": {
      "text/plain": [
       "'Alice'"
      ]
     },
     "execution_count": 26,
     "metadata": {},
     "output_type": "execute_result"
    }
   ],
   "source": [
    "name"
   ]
  },
  {
   "cell_type": "code",
   "execution_count": 2,
   "id": "69b15206",
   "metadata": {},
   "outputs": [],
   "source": [
    "s = 'Hello! my name is Alive 2'"
   ]
  },
  {
   "cell_type": "code",
   "execution_count": 3,
   "id": "aa613dc4",
   "metadata": {},
   "outputs": [
    {
     "data": {
      "text/plain": [
       "False"
      ]
     },
     "execution_count": 3,
     "metadata": {},
     "output_type": "execute_result"
    }
   ],
   "source": [
    "s.isalpha()"
   ]
  },
  {
   "cell_type": "code",
   "execution_count": 4,
   "id": "088394a8",
   "metadata": {},
   "outputs": [
    {
     "data": {
      "text/plain": [
       "True"
      ]
     },
     "execution_count": 4,
     "metadata": {},
     "output_type": "execute_result"
    }
   ],
   "source": [
    "q = 'adakd'\n",
    "q.isalpha()"
   ]
  },
  {
   "cell_type": "code",
   "execution_count": 5,
   "id": "a9c3dc95",
   "metadata": {},
   "outputs": [
    {
     "data": {
      "text/plain": [
       "False"
      ]
     },
     "execution_count": 5,
     "metadata": {},
     "output_type": "execute_result"
    }
   ],
   "source": [
    "s.isspace()"
   ]
  },
  {
   "cell_type": "code",
   "execution_count": 6,
   "id": "9d9ae403",
   "metadata": {},
   "outputs": [
    {
     "data": {
      "text/plain": [
       "False"
      ]
     },
     "execution_count": 6,
     "metadata": {},
     "output_type": "execute_result"
    }
   ],
   "source": [
    "s.islower()"
   ]
  },
  {
   "cell_type": "code",
   "execution_count": 7,
   "id": "002d2990",
   "metadata": {},
   "outputs": [
    {
     "data": {
      "text/plain": [
       "True"
      ]
     },
     "execution_count": 7,
     "metadata": {},
     "output_type": "execute_result"
    }
   ],
   "source": [
    "q.islower()"
   ]
  },
  {
   "cell_type": "code",
   "execution_count": 10,
   "id": "fb9ebdcc",
   "metadata": {},
   "outputs": [
    {
     "data": {
      "text/plain": [
       "True"
      ]
     },
     "execution_count": 10,
     "metadata": {},
     "output_type": "execute_result"
    }
   ],
   "source": [
    "r = '123'\n",
    "r.isdigit()\n",
    "# r.isnum()"
   ]
  },
  {
   "cell_type": "code",
   "execution_count": null,
   "id": "2898b834",
   "metadata": {},
   "outputs": [],
   "source": []
  }
 ],
 "metadata": {
  "kernelspec": {
   "display_name": "Python 3 (ipykernel)",
   "language": "python",
   "name": "python3"
  },
  "language_info": {
   "codemirror_mode": {
    "name": "ipython",
    "version": 3
   },
   "file_extension": ".py",
   "mimetype": "text/x-python",
   "name": "python",
   "nbconvert_exporter": "python",
   "pygments_lexer": "ipython3",
   "version": "3.11.5"
  }
 },
 "nbformat": 4,
 "nbformat_minor": 5
}
